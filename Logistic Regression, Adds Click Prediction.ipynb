{
 "cells": [
  {
   "cell_type": "markdown",
   "id": "14224ae4",
   "metadata": {},
   "source": [
    "# Logistic Regression: Ads Click Prediction \n",
    "\n",
    "In this project we will build a simple logistic regression model using the [Ad Click prediction dataset] downloaded from (https://www.kaggle.com/jahnveenarang/cvdcvd-vd).\n",
    "\n",
    "We will work with some demographic data to predict whether a user purchased something after clicking on an ad or not. We will start off by importing the libraries and datasets.\n",
    "\n",
    "### Importing the libraries and datasets"
   ]
  },
  {
   "cell_type": "markdown",
   "id": "2471c9d9",
   "metadata": {},
   "source": [
    "First we should import the required libraries and the dataset"
   ]
  },
  {
   "cell_type": "code",
   "execution_count": 1,
   "id": "9ac173df",
   "metadata": {},
   "outputs": [],
   "source": [
    "#Basics\n",
    "import pandas as pd\n",
    "import numpy as np\n",
    "\n",
    "#Visualization\n",
    "import matplotlib.pyplot as plot\n",
    "import seaborn as sns\n",
    "import matplotlib.pyplot as plt\n",
    "\n",
    "#SKLearn ML\n",
    "from sklearn.linear_model import LogisticRegression\n",
    "from sklearn.model_selection import train_test_split\n",
    "from sklearn.metrics import plot_confusion_matrix, confusion_matrix\n",
    "from sklearn.preprocessing import StandardScaler"
   ]
  },
  {
   "cell_type": "code",
   "execution_count": 3,
   "id": "37647367",
   "metadata": {},
   "outputs": [],
   "source": [
    "#Loading dataset\n",
    "sn_ads = pd.read_csv(r\"C:\\Users\\LENOVO\\Desktop\\Datasets\\Social_Network_Ads.csv\")"
   ]
  },
  {
   "cell_type": "code",
   "execution_count": 4,
   "id": "73eae03d",
   "metadata": {},
   "outputs": [
    {
     "data": {
      "text/html": [
       "<div>\n",
       "<style scoped>\n",
       "    .dataframe tbody tr th:only-of-type {\n",
       "        vertical-align: middle;\n",
       "    }\n",
       "\n",
       "    .dataframe tbody tr th {\n",
       "        vertical-align: top;\n",
       "    }\n",
       "\n",
       "    .dataframe thead th {\n",
       "        text-align: right;\n",
       "    }\n",
       "</style>\n",
       "<table border=\"1\" class=\"dataframe\">\n",
       "  <thead>\n",
       "    <tr style=\"text-align: right;\">\n",
       "      <th></th>\n",
       "      <th>User ID</th>\n",
       "      <th>Female</th>\n",
       "      <th>Age</th>\n",
       "      <th>EstimatedSalary</th>\n",
       "      <th>Purchased</th>\n",
       "    </tr>\n",
       "  </thead>\n",
       "  <tbody>\n",
       "    <tr>\n",
       "      <th>0</th>\n",
       "      <td>15624510</td>\n",
       "      <td>0</td>\n",
       "      <td>19</td>\n",
       "      <td>19000</td>\n",
       "      <td>0</td>\n",
       "    </tr>\n",
       "    <tr>\n",
       "      <th>1</th>\n",
       "      <td>15810944</td>\n",
       "      <td>0</td>\n",
       "      <td>35</td>\n",
       "      <td>20000</td>\n",
       "      <td>0</td>\n",
       "    </tr>\n",
       "    <tr>\n",
       "      <th>2</th>\n",
       "      <td>15668575</td>\n",
       "      <td>1</td>\n",
       "      <td>26</td>\n",
       "      <td>43000</td>\n",
       "      <td>0</td>\n",
       "    </tr>\n",
       "    <tr>\n",
       "      <th>3</th>\n",
       "      <td>15603246</td>\n",
       "      <td>1</td>\n",
       "      <td>27</td>\n",
       "      <td>57000</td>\n",
       "      <td>0</td>\n",
       "    </tr>\n",
       "    <tr>\n",
       "      <th>4</th>\n",
       "      <td>15804002</td>\n",
       "      <td>0</td>\n",
       "      <td>19</td>\n",
       "      <td>76000</td>\n",
       "      <td>0</td>\n",
       "    </tr>\n",
       "    <tr>\n",
       "      <th>...</th>\n",
       "      <td>...</td>\n",
       "      <td>...</td>\n",
       "      <td>...</td>\n",
       "      <td>...</td>\n",
       "      <td>...</td>\n",
       "    </tr>\n",
       "    <tr>\n",
       "      <th>395</th>\n",
       "      <td>15691863</td>\n",
       "      <td>1</td>\n",
       "      <td>46</td>\n",
       "      <td>41000</td>\n",
       "      <td>1</td>\n",
       "    </tr>\n",
       "    <tr>\n",
       "      <th>396</th>\n",
       "      <td>15706071</td>\n",
       "      <td>0</td>\n",
       "      <td>51</td>\n",
       "      <td>23000</td>\n",
       "      <td>1</td>\n",
       "    </tr>\n",
       "    <tr>\n",
       "      <th>397</th>\n",
       "      <td>15654296</td>\n",
       "      <td>1</td>\n",
       "      <td>50</td>\n",
       "      <td>20000</td>\n",
       "      <td>1</td>\n",
       "    </tr>\n",
       "    <tr>\n",
       "      <th>398</th>\n",
       "      <td>15755018</td>\n",
       "      <td>0</td>\n",
       "      <td>36</td>\n",
       "      <td>33000</td>\n",
       "      <td>0</td>\n",
       "    </tr>\n",
       "    <tr>\n",
       "      <th>399</th>\n",
       "      <td>15594041</td>\n",
       "      <td>1</td>\n",
       "      <td>49</td>\n",
       "      <td>36000</td>\n",
       "      <td>1</td>\n",
       "    </tr>\n",
       "  </tbody>\n",
       "</table>\n",
       "<p>400 rows × 5 columns</p>\n",
       "</div>"
      ],
      "text/plain": [
       "      User ID  Female  Age  EstimatedSalary  Purchased\n",
       "0    15624510       0   19            19000          0\n",
       "1    15810944       0   35            20000          0\n",
       "2    15668575       1   26            43000          0\n",
       "3    15603246       1   27            57000          0\n",
       "4    15804002       0   19            76000          0\n",
       "..        ...     ...  ...              ...        ...\n",
       "395  15691863       1   46            41000          1\n",
       "396  15706071       0   51            23000          1\n",
       "397  15654296       1   50            20000          1\n",
       "398  15755018       0   36            33000          0\n",
       "399  15594041       1   49            36000          1\n",
       "\n",
       "[400 rows x 5 columns]"
      ]
     },
     "execution_count": 4,
     "metadata": {},
     "output_type": "execute_result"
    }
   ],
   "source": [
    "#display the loaded dataframe\n",
    "sn_ads"
   ]
  },
  {
   "cell_type": "markdown",
   "id": "53ab8771",
   "metadata": {},
   "source": [
    "We have 5 different columns outlying customer ID, gender, age, estimated salary and whether they purchased a product after clicking on an ad.\n",
    "\n",
    "'User ID': unique identification for consumer\\\n",
    "'Age': cutomer age in years\\\n",
    "'Estimated Salary': Avg. Income of consumer\\\n",
    "'Female': Whether consumer was male or female\\\n",
    "'Purchased': 0 or 1 indicated clicking on Ad\\"
   ]
  },
  {
   "cell_type": "markdown",
   "id": "69ba1976",
   "metadata": {},
   "source": [
    "### Exploring the dataset\n",
    "\n",
    "We can see the size of our [dataframe](https://pandas.pydata.org/pandas-docs/stable/user_guide/dsintro.html#dataframe) using [df.shape](https://pandas.pydata.org/pandas-docs/stable/reference/api/pandas.DataFrame.shape.html) from Python's [Pandas](https://pandas.pydata.org/pandas-docs/stable/reference/api/pandas.DataFrame.head.html) library."
   ]
  },
  {
   "cell_type": "code",
   "execution_count": 5,
   "id": "a3619a6e",
   "metadata": {},
   "outputs": [
    {
     "data": {
      "text/plain": [
       "(400, 5)"
      ]
     },
     "execution_count": 5,
     "metadata": {},
     "output_type": "execute_result"
    }
   ],
   "source": [
    "sn_ads.shape"
   ]
  },
  {
   "cell_type": "markdown",
   "id": "1eaa5c4d",
   "metadata": {},
   "source": [
    "We can see that there are 400 rows (data entries) and 5 columns (features). We can also look at the top few entries to get an idea about the data"
   ]
  },
  {
   "cell_type": "code",
   "execution_count": 6,
   "id": "ca0c4675",
   "metadata": {},
   "outputs": [
    {
     "data": {
      "text/html": [
       "<div>\n",
       "<style scoped>\n",
       "    .dataframe tbody tr th:only-of-type {\n",
       "        vertical-align: middle;\n",
       "    }\n",
       "\n",
       "    .dataframe tbody tr th {\n",
       "        vertical-align: top;\n",
       "    }\n",
       "\n",
       "    .dataframe thead th {\n",
       "        text-align: right;\n",
       "    }\n",
       "</style>\n",
       "<table border=\"1\" class=\"dataframe\">\n",
       "  <thead>\n",
       "    <tr style=\"text-align: right;\">\n",
       "      <th></th>\n",
       "      <th>User ID</th>\n",
       "      <th>Female</th>\n",
       "      <th>Age</th>\n",
       "      <th>EstimatedSalary</th>\n",
       "      <th>Purchased</th>\n",
       "    </tr>\n",
       "  </thead>\n",
       "  <tbody>\n",
       "    <tr>\n",
       "      <th>0</th>\n",
       "      <td>15624510</td>\n",
       "      <td>0</td>\n",
       "      <td>19</td>\n",
       "      <td>19000</td>\n",
       "      <td>0</td>\n",
       "    </tr>\n",
       "    <tr>\n",
       "      <th>1</th>\n",
       "      <td>15810944</td>\n",
       "      <td>0</td>\n",
       "      <td>35</td>\n",
       "      <td>20000</td>\n",
       "      <td>0</td>\n",
       "    </tr>\n",
       "    <tr>\n",
       "      <th>2</th>\n",
       "      <td>15668575</td>\n",
       "      <td>1</td>\n",
       "      <td>26</td>\n",
       "      <td>43000</td>\n",
       "      <td>0</td>\n",
       "    </tr>\n",
       "    <tr>\n",
       "      <th>3</th>\n",
       "      <td>15603246</td>\n",
       "      <td>1</td>\n",
       "      <td>27</td>\n",
       "      <td>57000</td>\n",
       "      <td>0</td>\n",
       "    </tr>\n",
       "    <tr>\n",
       "      <th>4</th>\n",
       "      <td>15804002</td>\n",
       "      <td>0</td>\n",
       "      <td>19</td>\n",
       "      <td>76000</td>\n",
       "      <td>0</td>\n",
       "    </tr>\n",
       "  </tbody>\n",
       "</table>\n",
       "</div>"
      ],
      "text/plain": [
       "    User ID  Female  Age  EstimatedSalary  Purchased\n",
       "0  15624510       0   19            19000          0\n",
       "1  15810944       0   35            20000          0\n",
       "2  15668575       1   26            43000          0\n",
       "3  15603246       1   27            57000          0\n",
       "4  15804002       0   19            76000          0"
      ]
     },
     "execution_count": 6,
     "metadata": {},
     "output_type": "execute_result"
    }
   ],
   "source": [
    "sn_ads.head()"
   ]
  },
  {
   "cell_type": "markdown",
   "id": "293b6109",
   "metadata": {},
   "source": [
    "Now let's look at the types of the data columns"
   ]
  },
  {
   "cell_type": "code",
   "execution_count": 7,
   "id": "591556b6",
   "metadata": {
    "scrolled": true
   },
   "outputs": [
    {
     "data": {
      "text/plain": [
       "User ID            int64\n",
       "Female             int64\n",
       "Age                int64\n",
       "EstimatedSalary    int64\n",
       "Purchased          int64\n",
       "dtype: object"
      ]
     },
     "execution_count": 7,
     "metadata": {},
     "output_type": "execute_result"
    }
   ],
   "source": [
    "sn_ads.dtypes"
   ]
  },
  {
   "cell_type": "markdown",
   "id": "7ccd6573",
   "metadata": {},
   "source": [
    "### Visualisation Exploration of the Data\n",
    "\n",
    "We can take a look at our data by plotting using the [Seaborn](https://seaborn.pydata.org/) and [matplotlib](https://matplotlib.org/) packages."
   ]
  },
  {
   "cell_type": "markdown",
   "id": "04eccb11",
   "metadata": {},
   "source": [
    "#### Plotting Histogram\n",
    "\n",
    "Histogram refers to the frequency of occurrence of variables in an interval, it is useful to see the different categories of data and how frequently they occur in a column. Next, we will look at the histogram of male and female distribution across the ranges of age. Most people are included between the 20 and 50 year-old bracket."
   ]
  },
  {
   "cell_type": "code",
   "execution_count": 8,
   "id": "fbb046a1",
   "metadata": {},
   "outputs": [
    {
     "data": {
      "image/png": "[encoded data removed]",
      "text/plain": [
       "<Figure size 404.125x360 with 1 Axes>"
      ]
     },
     "metadata": {
      "needs_background": "light"
     },
     "output_type": "display_data"
    }
   ],
   "source": [
    "#plot a histogram of count by age_range, with one series per gender\n",
    "sn_ads_bins = sn_ads[sn_ads.Age.notna()]\n",
    "\n",
    "bins = list(range(0, 120, 10))\n",
    "sn_ads_bins['age_range'] = pd.cut(sn_ads.Age, bins=bins)\n",
    "chart = sns.catplot(x=\"age_range\", kind=\"count\", hue=\"Female\", data=sn_ads_bins);\n",
    "for axes in chart.axes.flat:\n",
    "    axes.set_xticklabels(axes.get_xticklabels(), rotation=90)"
   ]
  },
  {
   "cell_type": "markdown",
   "id": "679ee2c6",
   "metadata": {},
   "source": [
    "We can see that the distribution of data in the dataset is roughly equal. A balanced dataset is the one that contains equal or almost equal number of samples from the positive and negative class. If one of the class outnumbers the other in the dataset, then the distrubtion is known to be skewed - or in favour of one class, as the results will introduce a bias towards that class, which can affect our results and the assumptions we are making."
   ]
  },
  {
   "cell_type": "markdown",
   "id": "fc582c77",
   "metadata": {},
   "source": [
    "## Using Sklearn\n",
    "We will be using [sklearn](https://scikit-learn.org/stable/) for fitting the first logistic regression model. We will split our dataframe into the following:\n",
    "- A single column for the target variable (technically a Series)\n",
    "- Remaining columns for the inputs (Since there are multiple columns this is a dataframe) \n"
   ]
  },
  {
   "cell_type": "code",
   "execution_count": 9,
   "id": "10afbf9f",
   "metadata": {},
   "outputs": [],
   "source": [
    "#Separate x_inputs from y_target variables\n",
    "y_target = sn_ads.Purchased\n",
    "x_inputs = sn_ads[['Female','Age','EstimatedSalary']]"
   ]
  },
  {
   "cell_type": "markdown",
   "id": "6d0bc542",
   "metadata": {},
   "source": [
    "#### Splitting dataset into Training and Test sets"
   ]
  },
  {
   "cell_type": "markdown",
   "id": "c2da361e",
   "metadata": {},
   "source": [
    "It is generally a good practice in Machine learning to split the dataset into training and test sets to evaluate how well our model does when trained on a set of data (train) and predicting on data it has not seen before (test). We will use Sklearn's [train_test_split](https://scikit-learn.org/stable/modules/generated/sklearn.model_selection.train_test_split.html) to divide our dataset as shown below."
   ]
  },
  {
   "cell_type": "markdown",
   "id": "6b37bd28",
   "metadata": {},
   "source": [
    "Now we will finalise our training data or independent features (X) and also specify our outcome variable (Y). "
   ]
  },
  {
   "cell_type": "code",
   "execution_count": 10,
   "id": "5f783c61",
   "metadata": {},
   "outputs": [
    {
     "name": "stdout",
     "output_type": "stream",
     "text": [
      "X_train: (300, 3)\n",
      "X_test: (100, 3)\n",
      "Y_train: 300\n",
      "Y_test: 100\n"
     ]
    }
   ],
   "source": [
    "#Split the data into training and test sets using the function\n",
    "x_train, x_test, y_train, y_test = train_test_split(x_inputs, y_target, train_size=0.75)\n",
    "\n",
    "print(\"X_train:\", x_train.shape)\n",
    "print(\"X_test:\", x_test.shape)\n",
    "print(\"Y_train:\", len(y_train))\n",
    "print(\"Y_test:\", len(y_test))"
   ]
  },
  {
   "cell_type": "markdown",
   "id": "f98c6615",
   "metadata": {},
   "source": [
    "#### Pre-processing step (Scaling data)"
   ]
  },
  {
   "cell_type": "markdown",
   "id": "d3d1f326",
   "metadata": {},
   "source": [
    "Before we fit the logistic regression, we will scale the data. This step will normalise all the data and it is especially helpful in dataset with variables in different units. To do so, we use the [StandardScaler()](https://scikit-learn.org/stable/modules/generated/sklearn.preprocessing.StandardScaler.html) method from Sklearn. \n",
    "\n",
    "It will simply standardise all of our numeric units by subtracting the mean and dividing it by the standard deviation."
   ]
  },
  {
   "cell_type": "code",
   "execution_count": 11,
   "id": "81bc2a5d",
   "metadata": {},
   "outputs": [],
   "source": [
    "sc_X = StandardScaler()"
   ]
  },
  {
   "cell_type": "code",
   "execution_count": 12,
   "id": "b3076b0f",
   "metadata": {},
   "outputs": [],
   "source": [
    "x_train = sc_X.fit_transform(x_train)"
   ]
  },
  {
   "cell_type": "code",
   "execution_count": 13,
   "id": "0b8bf6d0",
   "metadata": {},
   "outputs": [],
   "source": [
    "x_test = sc_X.fit_transform(x_test)"
   ]
  },
  {
   "cell_type": "markdown",
   "id": "0a2d9190",
   "metadata": {},
   "source": [
    "#### Fitting the model and evaluating results"
   ]
  },
  {
   "cell_type": "markdown",
   "id": "09e9b463",
   "metadata": {},
   "source": [
    "We again, firstly declare the model using [LogisticRegression()](https://scikit-learn.org/stable/modules/generated/sklearn.linear_model.LogisticRegression.html#sklearn.linear_model.LogisticRegression.score) and then fit it to our training dataset and labels."
   ]
  },
  {
   "cell_type": "code",
   "execution_count": 14,
   "id": "f114804e",
   "metadata": {},
   "outputs": [],
   "source": [
    "#Declare a logistic regression classifier\n",
    "classifier = LogisticRegression(max_iter=1000).fit(x_train, y_train)"
   ]
  },
  {
   "cell_type": "markdown",
   "id": "f7c75e29",
   "metadata": {},
   "source": [
    "We can now predict on the test data to see what the predictions would be like for unseen data by the model."
   ]
  },
  {
   "cell_type": "code",
   "execution_count": 15,
   "id": "c3d14350",
   "metadata": {},
   "outputs": [],
   "source": [
    "#Make predictions on test data\n",
    "pred = classifier.predict(x_train)"
   ]
  },
  {
   "cell_type": "markdown",
   "id": "b4c68048",
   "metadata": {},
   "source": [
    "We can use the [.score()](https://scikit-learn.org/stable/modules/generated/sklearn.linear_model.LogisticRegression.html#sklearn.linear_model.LogisticRegression.score) method as a first way of understanding how good our model is. The method works by returning the mean accuracy on the given test. We will learn more about other ways of measuring performance in later chapters"
   ]
  },
  {
   "cell_type": "code",
   "execution_count": 21,
   "id": "8fe58cbe",
   "metadata": {},
   "outputs": [
    {
     "data": {
      "text/plain": [
       "0.85"
      ]
     },
     "execution_count": 21,
     "metadata": {},
     "output_type": "execute_result"
    }
   ],
   "source": [
    "#Print out score on the train data\n",
    "classifier.score(x_train, y_train)"
   ]
  },
  {
   "cell_type": "markdown",
   "id": "a8679b14",
   "metadata": {},
   "source": [
    "The score here evaluates the performance of the model, by default, the classifier uses Accuracy as the score. It is the ratio of number of correct predictions to the total number of predictions. It is essentially the fraction of predictions the model got right. It works well with a balanced class, hence, it is essential to have a quick look at the distribution of the class as done above. \n",
    "\n",
    "These four outcomes can also be depicted in the form of a confusion matrix, which is nothing but a visual representation of how many times these outcomes occured for our model's predictions."
   ]
  },
  {
   "cell_type": "code",
   "execution_count": 23,
   "id": "11eb2628",
   "metadata": {},
   "outputs": [
    {
     "data": {
      "image/png": "[encoded data removed]",
      "text/plain": [
       "<Figure size 432x288 with 2 Axes>"
      ]
     },
     "metadata": {
      "needs_background": "light"
     },
     "output_type": "display_data"
    }
   ],
   "source": [
    "#Plot the confusion matrix\n",
    "plot_confusion_matrix(classifier, x_train, y_train);"
   ]
  },
  {
   "cell_type": "markdown",
   "id": "142720ff",
   "metadata": {},
   "source": [
    "In later chapter's we'll look more closely at how to interpret the confusion matrix."
   ]
  },
  {
   "cell_type": "markdown",
   "id": "8f29ff9c",
   "metadata": {},
   "source": [
    "## Fitting the Linear Regression Model\n",
    "\n",
    "To fit the model using [statsmodels](https://www.statsmodels.org/stable/index.html) we first separate our target variable (Y) and independent variables (X). As we want to predict the purchase, this is our target variable Y. The rest are our independet variables X. "
   ]
  },
  {
   "cell_type": "markdown",
   "id": "0412fec6",
   "metadata": {},
   "source": [
    "## Using Statsmodel\n",
    "Now, we will have a look at using the Statsmodel library for fitting logistic regression model. We will specify the model and in the next step we will fit the model."
   ]
  },
  {
   "cell_type": "code",
   "execution_count": 24,
   "id": "ae23d092",
   "metadata": {},
   "outputs": [],
   "source": [
    "import statsmodels.api as sm"
   ]
  },
  {
   "cell_type": "code",
   "execution_count": 25,
   "id": "1907e03b",
   "metadata": {},
   "outputs": [
    {
     "name": "stdout",
     "output_type": "stream",
     "text": [
      "Optimization terminated successfully.\n",
      "         Current function value: 0.677546\n",
      "         Iterations 4\n"
     ]
    }
   ],
   "source": [
    "# building the model \n",
    "log_reg = sm.Logit(endog = y_target, exog=x_inputs)\n",
    "\n",
    "# #fitting the data\n",
    "log_reg = log_reg.fit()"
   ]
  },
  {
   "cell_type": "markdown",
   "id": "3ab648cf",
   "metadata": {},
   "source": [
    "Now we will print the model results summary. The summary includes information on the fit process as well as the estimated coefficients."
   ]
  },
  {
   "cell_type": "code",
   "execution_count": 28,
   "id": "3fbd55f4",
   "metadata": {},
   "outputs": [
    {
     "data": {
      "text/html": [
       "<table class=\"simpletable\">\n",
       "<caption>Logit Regression Results</caption>\n",
       "<tr>\n",
       "  <th>Dep. Variable:</th>       <td>Purchased</td>    <th>  No. Observations:  </th>  <td>   400</td> \n",
       "</tr>\n",
       "<tr>\n",
       "  <th>Model:</th>                 <td>Logit</td>      <th>  Df Residuals:      </th>  <td>   397</td> \n",
       "</tr>\n",
       "<tr>\n",
       "  <th>Method:</th>                 <td>MLE</td>       <th>  Df Model:          </th>  <td>     2</td> \n",
       "</tr>\n",
       "<tr>\n",
       "  <th>Date:</th>            <td>Thu, 15 Dec 2022</td> <th>  Pseudo R-squ.:     </th> <td>-0.03923</td>\n",
       "</tr>\n",
       "<tr>\n",
       "  <th>Time:</th>                <td>12:09:37</td>     <th>  Log-Likelihood:    </th> <td> -271.02</td>\n",
       "</tr>\n",
       "<tr>\n",
       "  <th>converged:</th>             <td>True</td>       <th>  LL-Null:           </th> <td> -260.79</td>\n",
       "</tr>\n",
       "<tr>\n",
       "  <th>Covariance Type:</th>     <td>nonrobust</td>    <th>  LLR p-value:       </th>  <td> 1.000</td> \n",
       "</tr>\n",
       "</table>\n",
       "<table class=\"simpletable\">\n",
       "<tr>\n",
       "         <td></td>            <th>coef</th>     <th>std err</th>      <th>z</th>      <th>P>|z|</th>  <th>[0.025</th>    <th>0.975]</th>  \n",
       "</tr>\n",
       "<tr>\n",
       "  <th>Female</th>          <td>   -0.5371</td> <td>    0.201</td> <td>   -2.666</td> <td> 0.008</td> <td>   -0.932</td> <td>   -0.142</td>\n",
       "</tr>\n",
       "<tr>\n",
       "  <th>Age</th>             <td>   -0.0002</td> <td>    0.006</td> <td>   -0.035</td> <td> 0.972</td> <td>   -0.012</td> <td>    0.011</td>\n",
       "</tr>\n",
       "<tr>\n",
       "  <th>EstimatedSalary</th> <td> 6.209e-07</td> <td> 2.82e-06</td> <td>    0.220</td> <td> 0.826</td> <td>-4.91e-06</td> <td> 6.15e-06</td>\n",
       "</tr>\n",
       "</table>"
      ],
      "text/plain": [
       "<class 'statsmodels.iolib.summary.Summary'>\n",
       "\"\"\"\n",
       "                           Logit Regression Results                           \n",
       "==============================================================================\n",
       "Dep. Variable:              Purchased   No. Observations:                  400\n",
       "Model:                          Logit   Df Residuals:                      397\n",
       "Method:                           MLE   Df Model:                            2\n",
       "Date:                Thu, 15 Dec 2022   Pseudo R-squ.:                -0.03923\n",
       "Time:                        12:09:37   Log-Likelihood:                -271.02\n",
       "converged:                       True   LL-Null:                       -260.79\n",
       "Covariance Type:            nonrobust   LLR p-value:                     1.000\n",
       "===================================================================================\n",
       "                      coef    std err          z      P>|z|      [0.025      0.975]\n",
       "-----------------------------------------------------------------------------------\n",
       "Female             -0.5371      0.201     -2.666      0.008      -0.932      -0.142\n",
       "Age                -0.0002      0.006     -0.035      0.972      -0.012       0.011\n",
       "EstimatedSalary  6.209e-07   2.82e-06      0.220      0.826   -4.91e-06    6.15e-06\n",
       "===================================================================================\n",
       "\"\"\""
      ]
     },
     "execution_count": 28,
     "metadata": {},
     "output_type": "execute_result"
    }
   ],
   "source": [
    "log_reg.summary(xname=['Female', 'Age', 'EstimatedSalary'])"
   ]
  },
  {
   "cell_type": "markdown",
   "id": "a6e78ecd",
   "metadata": {},
   "source": [
    "The top section shows the statistics of the model. The coef column shows the value for the coefficients $\\gamma$=$\\beta$<sub>o</sub>+$\\beta$<sub>1</sub>x from our logistic regression formula. \n",
    "\n",
    "The column P>|z| shows the p-values. A p-value is a probability measure. If this p-value meets an established threshold for statistical significance, then we can conclude model fits the data better than the null model. The z-statistic equals the coefficient divided by its standard error.\n",
    "\n",
    " Age and Estimated Salary have a very p-value greater than 0.05 meaning they are not statistically significant in helping predict the output variable. "
   ]
  },
  {
   "cell_type": "markdown",
   "id": "6b578381",
   "metadata": {},
   "source": [
    "#### Log Odds and Interpretation"
   ]
  },
  {
   "cell_type": "markdown",
   "id": "00f8d52f",
   "metadata": {},
   "source": [
    "The Female coefficient (x1) has a coefficient of β=-0.5371 and is statistically significant (p-value of 0.000). We now want to look at the interpretation transforming the coefficients into log odds. We do so by taking the exponential of the parameters. We can remember that Female is our x1 variable."
   ]
  },
  {
   "cell_type": "code",
   "execution_count": 29,
   "id": "feac8437",
   "metadata": {},
   "outputs": [
    {
     "name": "stdout",
     "output_type": "stream",
     "text": [
      "                 Odds Ratio\n",
      "Female             0.584419\n",
      "Age                0.999796\n",
      "EstimatedSalary    1.000001\n"
     ]
    }
   ],
   "source": [
    "odds_ratios = pd.DataFrame({\"Odds Ratio\": log_reg.params})\n",
    "\n",
    "odds_ratios = np.exp(odds_ratios)\n",
    "print(odds_ratios)"
   ]
  },
  {
   "cell_type": "markdown",
   "id": "cb0870d3",
   "metadata": {},
   "source": [
    "Taking the exponent of the Female coefficient (-0.5371), we can see that odd ratio is 0.58. We can say that the odds of one gender (male) purchasing the item are just over half compared to females. We can remember that 0 is the encoded label for female and 1 is the encoded label for male."
   ]
  },
  {
   "cell_type": "markdown",
   "id": "a4eb453d",
   "metadata": {},
   "source": [
    "#### END OF NOTEBOOK"
   ]
  },
  {
   "cell_type": "code",
   "execution_count": null,
   "id": "a2e2e92b",
   "metadata": {},
   "outputs": [],
   "source": []
  }
 ],
 "metadata": {
  "kernelspec": {
   "display_name": "Python 3 (ipykernel)",
   "language": "python",
   "name": "python3"
  },
  "language_info": {
   "codemirror_mode": {
    "name": "ipython",
    "version": 3
   },
   "file_extension": ".py",
   "mimetype": "text/x-python",
   "name": "python",
   "nbconvert_exporter": "python",
   "pygments_lexer": "ipython3",
   "version": "3.9.7"
  }
 },
 "nbformat": 4,
 "nbformat_minor": 5
}
